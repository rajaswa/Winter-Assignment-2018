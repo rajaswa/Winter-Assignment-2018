{
  "nbformat": 4,
  "nbformat_minor": 0,
  "metadata": {
    "colab": {
      "name": "XOR.ipynb",
      "version": "0.3.2",
      "provenance": [],
      "collapsed_sections": []
    },
    "kernelspec": {
      "name": "python3",
      "display_name": "Python 3"
    }
  },
  "cells": [
    {
      "metadata": {
        "id": "wJGrB3KzbJup",
        "colab_type": "code",
        "colab": {}
      },
      "cell_type": "code",
      "source": [
        "import numpy as np\n",
        "import matplotlib.pyplot as plt\n",
        "\n",
        "%matplotlib inline"
      ],
      "execution_count": 0,
      "outputs": []
    },
    {
      "metadata": {
        "id": "_rVV23UlbODE",
        "colab_type": "code",
        "colab": {}
      },
      "cell_type": "code",
      "source": [
        "def convertb2d(binary):\n",
        "  if binary == '00':\n",
        "    decimal = 0\n",
        "  elif binary == '01':\n",
        "    decimal = 1\n",
        "  elif binary == 10:\n",
        "    decimal = 2\n",
        "  else:\n",
        "    decimal = 3\n",
        "    \n",
        "  return decimal\n",
        "\n",
        "\n",
        "def convertd2b(decimal):\n",
        "  if decimal == 0:\n",
        "    binary = '00'\n",
        "  elif decimal == 1:\n",
        "    binary = '01'\n",
        "  elif decimal == 2:\n",
        "    binary = '10'\n",
        "  else:\n",
        "    binary == '11'"
      ],
      "execution_count": 0,
      "outputs": []
    },
    {
      "metadata": {
        "id": "jhKs1unub64J",
        "colab_type": "code",
        "colab": {}
      },
      "cell_type": "code",
      "source": [
        "def sigmoid(x):  \n",
        "    return 1/(1+np.exp(-x))\n",
        "\n",
        "def sigmoid_der(x):  \n",
        "    return sigmoid(x) *(1-sigmoid (x))\n",
        "\n",
        "def softmax(A):  \n",
        "    expA = np.exp(A)\n",
        "    return expA / expA.sum(axis=1, keepdims=True)"
      ],
      "execution_count": 0,
      "outputs": []
    },
    {
      "metadata": {
        "id": "AjrS9VSmduRo",
        "colab_type": "code",
        "colab": {}
      },
      "cell_type": "code",
      "source": [
        "#a, b , flag\n",
        "feature_set = [(0,0,0), (0,1,0), (0,2,0), (0,3,0),\n",
        "              (1,0,0), (1,1,0), (1,2,0), (1,3,0),\n",
        "               (2,0,0), (2,1,0), (2,2,0), (2,3,0),\n",
        "               (3,0,0), (3,1,0), (3,2,0), (3,3,0),\n",
        "               \n",
        "               (0,0,1), (0,1,1), (0,2,1), (0,3,1),\n",
        "              (1,0,1), (1,1,1), (1,2,1), (1,3,1),\n",
        "               (2,0,1), (2,1,1), (2,2,1), (2,3,1),\n",
        "               (3,0,1), (3,1,1), (3,2,1), (3,3,1)\n",
        "              ] \n",
        "\n",
        "labels = [0, 1, 2, 3,\n",
        "            1, 0, 3, 2,\n",
        "             2, 3, 0, 1,\n",
        "             3, 2, 1, 0,\n",
        "             \n",
        "             3, 2, 1, 0,\n",
        "             2, 3, 0, 1,\n",
        "             1, 0, 3, 2,\n",
        "             0, 1, 2, 3\n",
        "            ]\n",
        "              "
      ],
      "execution_count": 0,
      "outputs": []
    },
    {
      "metadata": {
        "id": "6-bNyAcdfca2",
        "colab_type": "code",
        "colab": {}
      },
      "cell_type": "code",
      "source": [
        "feature_set = np.array(feature_set)\n",
        "\n",
        "\n",
        "one_hot_labels = np.zeros((32, 4))\n",
        "for i in range(len(labels)):\n",
        "  one_hot_labels[i, labels[i]] = 1"
      ],
      "execution_count": 0,
      "outputs": []
    },
    {
      "metadata": {
        "id": "iYWFFb2YcOup",
        "colab_type": "code",
        "colab": {}
      },
      "cell_type": "code",
      "source": [
        "instances = feature_set.shape[0]  \n",
        "attributes = feature_set.shape[1]  \n",
        "hidden_nodes = 20  \n",
        "output_labels = 4\n",
        "\n",
        "wh = np.random.rand(attributes,hidden_nodes)  \n",
        "bh = np.random.randn(hidden_nodes)\n",
        "\n",
        "wo = np.random.rand(hidden_nodes,output_labels)  \n",
        "bo = np.random.randn(output_labels)  \n",
        "lr = 10e-4\n",
        "\n",
        "error_cost = []"
      ],
      "execution_count": 0,
      "outputs": []
    },
    {
      "metadata": {
        "id": "TdnzFZFngXo4",
        "colab_type": "code",
        "colab": {}
      },
      "cell_type": "code",
      "source": [
        "wh = np.random.rand(attributes,hidden_nodes)  \n",
        "bh = np.random.randn(hidden_nodes)\n",
        "\n",
        "wo = np.random.rand(hidden_nodes,output_labels)  \n",
        "bo = np.random.randn(output_labels)  \n",
        "lr = 10e-4\n",
        "\n",
        "error_cost = []\n"
      ],
      "execution_count": 0,
      "outputs": []
    },
    {
      "metadata": {
        "id": "7b5pR0jYgdDn",
        "colab_type": "code",
        "outputId": "eed95669-7f6e-4875-cd2a-badec7747ea1",
        "colab": {
          "base_uri": "https://localhost:8080/",
          "height": 885
        }
      },
      "cell_type": "code",
      "source": [
        "for epoch in range(500000):  \n",
        "############# feedforward\n",
        "\n",
        "    # Phase 1\n",
        "    zh = np.dot(feature_set, wh) + bh\n",
        "    ah = sigmoid(zh)\n",
        "\n",
        "    # Phase 2\n",
        "    zo = np.dot(ah, wo) + bo\n",
        "    ao = softmax(zo)\n",
        "\n",
        "########## Back Propagation\n",
        "\n",
        "########## Phase 1\n",
        "\n",
        "    dcost_dzo = ao - one_hot_labels\n",
        "    dzo_dwo = ah\n",
        "\n",
        "    dcost_wo = np.dot(dzo_dwo.T, dcost_dzo)\n",
        "\n",
        "    dcost_bo = dcost_dzo\n",
        "\n",
        "########## Phases 2\n",
        "\n",
        "    dzo_dah = wo\n",
        "    dcost_dah = np.dot(dcost_dzo , dzo_dah.T)\n",
        "    dah_dzh = sigmoid_der(zh)\n",
        "    dzh_dwh = feature_set\n",
        "    dcost_wh = np.dot(dzh_dwh.T, dah_dzh * dcost_dah)\n",
        "\n",
        "    dcost_bh = dcost_dah * dah_dzh\n",
        "\n",
        "    # Update Weights ================\n",
        "\n",
        "    wh -= lr * dcost_wh\n",
        "    bh -= lr * dcost_bh.sum(axis=0)\n",
        "\n",
        "    wo -= lr * dcost_wo\n",
        "    bo -= lr * dcost_bo.sum(axis=0)\n",
        "\n",
        "    if epoch % 10000 == 0:\n",
        "        loss = np.sum(-one_hot_labels * np.log(ao))\n",
        "        print('Loss function value: ', loss)\n",
        "        error_cost.append(loss)"
      ],
      "execution_count": 34,
      "outputs": [
        {
          "output_type": "stream",
          "text": [
            "Loss function value:  52.2026127063219\n",
            "Loss function value:  42.22373343053496\n",
            "Loss function value:  20.940922173968556\n",
            "Loss function value:  8.925738379134657\n",
            "Loss function value:  4.732136996543776\n",
            "Loss function value:  2.907715842004743\n",
            "Loss function value:  1.9589852114137316\n",
            "Loss function value:  1.4096934286852434\n",
            "Loss function value:  1.0676635697389083\n",
            "Loss function value:  0.8428083541469589\n",
            "Loss function value:  0.6880129205365277\n",
            "Loss function value:  0.576928072282111\n",
            "Loss function value:  0.4942115650627444\n",
            "Loss function value:  0.43064306310910594\n",
            "Loss function value:  0.3804825700821147\n",
            "Loss function value:  0.3400215932816598\n",
            "Loss function value:  0.3067778471887183\n",
            "Loss function value:  0.2790356983656942\n",
            "Loss function value:  0.25557522711257846\n",
            "Loss function value:  0.23550707530348886\n",
            "Loss function value:  0.21816853409898215\n",
            "Loss function value:  0.203056218896625\n",
            "Loss function value:  0.18978126430348113\n",
            "Loss function value:  0.17803876963414883\n",
            "Loss function value:  0.16758649569464235\n",
            "Loss function value:  0.15822971078024264\n",
            "Loss function value:  0.14981021372090308\n",
            "Loss function value:  0.14219825145893286\n",
            "Loss function value:  0.135286479362746\n",
            "Loss function value:  0.12898538735696632\n",
            "Loss function value:  0.1232197939708658\n",
            "Loss function value:  0.11792612924676554\n",
            "Loss function value:  0.11305030776058958\n",
            "Loss function value:  0.10854604819038369\n",
            "Loss function value:  0.10437353437716779\n",
            "Loss function value:  0.1004983400812913\n",
            "Loss function value:  0.09689055918953923\n",
            "Loss function value:  0.093524097324331\n",
            "Loss function value:  0.09037609123013568\n",
            "Loss function value:  0.08742643004640155\n",
            "Loss function value:  0.08465735837022728\n",
            "Loss function value:  0.08205314539166705\n",
            "Loss function value:  0.07959980772289267\n",
            "Loss function value:  0.0772848761069099\n",
            "Loss function value:  0.0750971981761473\n",
            "Loss function value:  0.07302677097757249\n",
            "Loss function value:  0.07106459819379586\n",
            "Loss function value:  0.06920256794661081\n",
            "Loss function value:  0.06743334782901536\n",
            "Loss function value:  0.065750294417952\n"
          ],
          "name": "stdout"
        }
      ]
    },
    {
      "metadata": {
        "id": "ZAXXKe2Igojz",
        "colab_type": "code",
        "colab": {}
      },
      "cell_type": "code",
      "source": [
        "def predict(x):\n",
        "    preds = []\n",
        "  \n",
        "  # Phase 1\n",
        "    zh = np.dot(x, wh) + bh\n",
        "    ah = sigmoid(zh)\n",
        "\n",
        "    # Phase 2\n",
        "    zo = np.dot(ah, wo) + bo\n",
        "    ao = softmax(zo)\n",
        "    \n",
        "    for i in range(len(ao)):\n",
        "      preds.append(np.argmax(ao[i], axis=0))\n",
        "      \n",
        "    return preds"
      ],
      "execution_count": 0,
      "outputs": []
    },
    {
      "metadata": {
        "id": "qhqRGfh5BNnJ",
        "colab_type": "code",
        "colab": {
          "base_uri": "https://localhost:8080/",
          "height": 573
        },
        "outputId": "8f858b71-09d4-4e7d-e4c6-70f2cb23016d"
      },
      "cell_type": "code",
      "source": [
        "predict(feature_set)"
      ],
      "execution_count": 36,
      "outputs": [
        {
          "output_type": "execute_result",
          "data": {
            "text/plain": [
              "[0,\n",
              " 1,\n",
              " 2,\n",
              " 3,\n",
              " 1,\n",
              " 0,\n",
              " 3,\n",
              " 2,\n",
              " 2,\n",
              " 3,\n",
              " 0,\n",
              " 1,\n",
              " 3,\n",
              " 2,\n",
              " 1,\n",
              " 0,\n",
              " 3,\n",
              " 2,\n",
              " 1,\n",
              " 0,\n",
              " 2,\n",
              " 3,\n",
              " 0,\n",
              " 1,\n",
              " 1,\n",
              " 0,\n",
              " 3,\n",
              " 2,\n",
              " 0,\n",
              " 1,\n",
              " 2,\n",
              " 3]"
            ]
          },
          "metadata": {
            "tags": []
          },
          "execution_count": 36
        }
      ]
    }
  ]
}